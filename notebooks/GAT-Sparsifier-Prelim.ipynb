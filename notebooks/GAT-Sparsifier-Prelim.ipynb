{
 "cells": [
  {
   "cell_type": "code",
   "execution_count": 1,
   "id": "d8fff154",
   "metadata": {},
   "outputs": [
    {
     "name": "stdout",
     "output_type": "stream",
     "text": [
      "/local/scratch/kchan76\n"
     ]
    },
    {
     "name": "stderr",
     "output_type": "stream",
     "text": [
      "/local/scratch/kchan76/sparse-stencil-learning/src/pyamg2/lib/python3.8/site-packages/tqdm/auto.py:22: TqdmWarning: IProgress not found. Please update jupyter and ipywidgets. See https://ipywidgets.readthedocs.io/en/stable/user_install.html\n",
      "  from .autonotebook import tqdm as notebook_tqdm\n"
     ]
    },
    {
     "name": "stdout",
     "output_type": "stream",
     "text": [
      "cuda:2\n"
     ]
    }
   ],
   "source": [
    "import os\n",
    "print(os.getcwd())\n",
    "import sys\n",
    "sys.path.append('/local/scratch/kchan76/sparse-coarse-operator/')\n",
    "\n",
    "import torch\n",
    "from libs.vc_poisson import VarCoeffPoisson\n",
    "from libs.models import GAT, MultiHeadedAttention2\n",
    "from libs.utils import *\n",
    "device = torch.device('cuda:2' if torch.cuda.is_available() else 'cpu')\n",
    "print(device)\n",
    "# !nvidia-smi"
   ]
  },
  {
   "cell_type": "markdown",
   "id": "a349cf51",
   "metadata": {},
   "source": [
    "## Define Problem"
   ]
  },
  {
   "cell_type": "code",
   "execution_count": 2,
   "id": "f5b7206d",
   "metadata": {},
   "outputs": [],
   "source": [
    "train_grid_size = 31\n",
    "k2 = 10 # number of training vectors on level 2 \n",
    "k3 = 2 # number of training vectors on level 3\n",
    "kappa = 0.1\n",
    "option = 'test'\n",
    "aparams = (kappa,option)\n",
    "PDE = VarCoeffPoisson(train_grid_size,[k2,k3],aparams=aparams)"
   ]
  },
  {
   "cell_type": "markdown",
   "id": "5a319a77",
   "metadata": {},
   "source": [
    "## Define and Train Model on Level 2"
   ]
  },
  {
   "cell_type": "code",
   "execution_count": 3,
   "id": "7668df25",
   "metadata": {
    "scrolled": false
   },
   "outputs": [],
   "source": [
    "# set seed\n",
    "# seed = 4\n",
    "# print('seed:', seed)\n",
    "# set_global_seed(seed)\n",
    "\n",
    "# GAT model config\n",
    "# hid = 64\n",
    "# in_head = 4\n",
    "# out_head = 4\n",
    "# in_feature = 8\n",
    "# out_feature = 8\n",
    "# init = 'xavier normal'\n",
    "# dropout = .2\n",
    "# activation = 'relu'\n",
    "\n",
    "# single_model = False\n",
    "# softmax_topk = False\n",
    "# dropout = 0.1\n",
    "# enforce_pos = True\n",
    "\n",
    "# GAT_prob = GAT(hid, in_head, out_head, \n",
    "#                in_feature=in_feature,\n",
    "#                out_feature=out_feature,\n",
    "#                dropout_rate=dropout,\n",
    "#                init=init,\n",
    "#                activation=activation)\n",
    "# GAT_value = GAT(hid, in_head, out_head, \n",
    "#                in_feature=in_feature,\n",
    "#                out_feature=out_feature,\n",
    "#                dropout_rate=dropout,\n",
    "#                init=init,\n",
    "#                activation=activation)\n",
    "# for p in model.parameters():\n",
    "#     print(p.requires_grad)\n",
    "\n",
    "# train model on level 2\n",
    "\n",
    "# epochs = 1000\n",
    "# adam_decay_rate = 0\n",
    "# lr = 1e-3\n",
    "# lr_decay_rate = 0.2\n",
    "# lr_decay_step = 500\n",
    "# softmax_on = False\n",
    "# single_model = False\n",
    "# num_nhbr2 = 4\n",
    "\n",
    "# torch.autograd.set_detect_anomaly(True)\n",
    "# model_prob2, model_value2 = PDE.train(PDE.A2, \n",
    "#                                       PDE.stencils2, \n",
    "#                                       PDE.E2, \n",
    "#                                       PDE.evec2,\n",
    "#                                       model_prob_l2, model_value_l2,\n",
    "#                                       epochs,\n",
    "#                                       adam_decay_rate, \n",
    "#                                       lr, \n",
    "#                                       lr_decay_rate, \n",
    "#                                       lr_decay_step,\n",
    "#                                       device,\n",
    "#                                       single_model=single_model, # double network not implemented yet\n",
    "#                                       num_nhbr=num_nhbr2,\n",
    "#                                       softmax_on = softmax_on,\n",
    "#                                       verbose = True)\n"
   ]
  },
  {
   "cell_type": "code",
   "execution_count": 6,
   "metadata": {},
   "outputs": [
    {
     "name": "stdout",
     "output_type": "stream",
     "text": [
      "seed: 4\n",
      " epoch:  0  loss:  tensor(0.0869, device='cuda:2', dtype=torch.float64, grad_fn=<DivBackward0>)\n",
      " epoch:  100  loss:  tensor(0.0441, device='cuda:2', dtype=torch.float64, grad_fn=<DivBackward0>)\n",
      " epoch:  200  loss:  tensor(0.0420, device='cuda:2', dtype=torch.float64, grad_fn=<DivBackward0>)\n",
      " epoch:  300  loss:  tensor(0.0436, device='cuda:2', dtype=torch.float64, grad_fn=<DivBackward0>)\n",
      " epoch:  400  loss:  tensor(0.0435, device='cuda:2', dtype=torch.float64, grad_fn=<DivBackward0>)\n",
      " epoch:  499  loss:  tensor(0.0435, device='cuda:2', dtype=torch.float64, grad_fn=<DivBackward0>)\n"
     ]
    }
   ],
   "source": [
    "seed = 4\n",
    "print('seed:', seed)\n",
    "set_global_seed(seed)\n",
    "\n",
    "h = 8\n",
    "dhid = 256\n",
    "epochs = 1510\n",
    "adam_decay_rate = 0 # adam weight decay\n",
    "lr = 1e-5 # learning rate\n",
    "lr_decay_rate = .5 # learning rate decay\n",
    "lr_decay_step = 500 # learning rate decay step size\n",
    "dropout = 0.1\n",
    "init = 'xavier normal' # \"<name> <distribution>\" name={'xavier', 'kaiming'} distribution={'uniform', 'normal'}\n",
    "\n",
    "model_prob_l2 = MultiHeadedAttention2(h ,dhid, init=init, dropout=dropout)\n",
    "model_value_l2 = MultiHeadedAttention2(h, dhid, init=init, dropout=dropout)\n",
    "\n",
    "single_model = False\n",
    "softmax_topk = False\n",
    "# enforce_pos = True\n",
    "\n",
    "epochs = 500\n",
    "adam_decay_rate = 0\n",
    "lr = 1e-5\n",
    "lr_decay_rate = 0.5\n",
    "lr_decay_step = 250\n",
    "softmax_on = False\n",
    "single_model = False\n",
    "num_nhbr2 = 4\n",
    "\n",
    "torch.autograd.set_detect_anomaly(True)\n",
    "model_probl2, model_valuel2 = PDE.train_attn(PDE.A2, \n",
    "                                      PDE.stencils2, \n",
    "                                      PDE.evec2,\n",
    "                                      model_prob_l2, \n",
    "                                      model_value_l2,\n",
    "                                      epochs,\n",
    "                                      adam_decay_rate, \n",
    "                                      lr, \n",
    "                                      lr_decay_rate, \n",
    "                                      lr_decay_step,\n",
    "                                      device,\n",
    "                                      single_model=single_model, # double network not implemented yet\n",
    "                                      num_nhbr=num_nhbr2,\n",
    "                                      softmax_on = softmax_on,\n",
    "                                      verbose = True)"
   ]
  },
  {
   "cell_type": "markdown",
   "id": "7b63f4ee",
   "metadata": {},
   "source": [
    "## Test Model on Level 2"
   ]
  },
  {
   "cell_type": "code",
   "execution_count": 8,
   "id": "17876fcb",
   "metadata": {},
   "outputs": [
    {
     "ename": "RuntimeError",
     "evalue": "Tensors must have same number of dimensions: got 3 and 2",
     "output_type": "error",
     "traceback": [
      "\u001b[0;31m---------------------------------------------------------------------------\u001b[0m",
      "\u001b[0;31mRuntimeError\u001b[0m                              Traceback (most recent call last)",
      "Cell \u001b[0;32mIn [8], line 13\u001b[0m\n\u001b[1;32m     11\u001b[0m tol \u001b[38;5;241m=\u001b[39m \u001b[38;5;241m1e-30\u001b[39m\n\u001b[1;32m     12\u001b[0m softmax_on \u001b[38;5;241m=\u001b[39m \u001b[38;5;28;01mFalse\u001b[39;00m\n\u001b[0;32m---> 13\u001b[0m _,_,xs,xl,ress,resl \u001b[38;5;241m=\u001b[39m \u001b[43mPDE\u001b[49m\u001b[38;5;241;43m.\u001b[39;49m\u001b[43mtest_model\u001b[49m\u001b[43m(\u001b[49m\u001b[43mmodels\u001b[49m\u001b[43m,\u001b[49m\n\u001b[1;32m     14\u001b[0m \u001b[43m                                     \u001b[49m\u001b[43mtest_grid_size\u001b[49m\u001b[43m,\u001b[49m\n\u001b[1;32m     15\u001b[0m \u001b[43m                                     \u001b[49m\u001b[43mdevice\u001b[49m\u001b[43m,\u001b[49m\n\u001b[1;32m     16\u001b[0m \u001b[43m                                     \u001b[49m\u001b[43mtop_accel\u001b[49m\u001b[43m \u001b[49m\u001b[38;5;241;43m=\u001b[39;49m\u001b[43m \u001b[49m\u001b[43maccel\u001b[49m\u001b[43m,\u001b[49m\n\u001b[1;32m     17\u001b[0m \u001b[43m                                     \u001b[49m\u001b[43mmax_levels\u001b[49m\u001b[43m \u001b[49m\u001b[38;5;241;43m=\u001b[39;49m\u001b[43m \u001b[49m\u001b[43mmax_levels\u001b[49m\u001b[43m,\u001b[49m\u001b[43m \u001b[49m\n\u001b[1;32m     18\u001b[0m \u001b[43m                                     \u001b[49m\u001b[43mtol\u001b[49m\u001b[43m \u001b[49m\u001b[38;5;241;43m=\u001b[39;49m\u001b[43m \u001b[49m\u001b[43mtol\u001b[49m\u001b[43m,\u001b[49m\n\u001b[1;32m     19\u001b[0m \u001b[43m                                     \u001b[49m\u001b[43mmaxits\u001b[49m\u001b[43m \u001b[49m\u001b[38;5;241;43m=\u001b[39;49m\u001b[43m \u001b[49m\u001b[43mmaxits\u001b[49m\u001b[43m,\u001b[49m\n\u001b[1;32m     20\u001b[0m \u001b[43m                                     \u001b[49m\u001b[43mnum_nhbr\u001b[49m\u001b[43m \u001b[49m\u001b[38;5;241;43m=\u001b[39;49m\u001b[43m \u001b[49m\u001b[43mnum_nhbr2\u001b[49m\u001b[43m,\u001b[49m\n\u001b[1;32m     21\u001b[0m \u001b[43m                                     \u001b[49m\u001b[43msoftmax_on\u001b[49m\u001b[43m \u001b[49m\u001b[38;5;241;43m=\u001b[39;49m\u001b[43m \u001b[49m\u001b[43msoftmax_on\u001b[49m\u001b[43m,\u001b[49m\n\u001b[1;32m     22\u001b[0m \u001b[43m                                     \u001b[49m\u001b[43msingle_model\u001b[49m\u001b[43m \u001b[49m\u001b[38;5;241;43m=\u001b[39;49m\u001b[43msingle_model\u001b[49m\u001b[43m,\u001b[49m\n\u001b[1;32m     23\u001b[0m \u001b[43m                                     \u001b[49m\u001b[43mverbose\u001b[49m\u001b[43m \u001b[49m\u001b[38;5;241;43m=\u001b[39;49m\u001b[43m \u001b[49m\u001b[38;5;28;43;01mTrue\u001b[39;49;00m\u001b[43m)\u001b[49m\n\u001b[1;32m     24\u001b[0m \u001b[38;5;28mprint\u001b[39m(ress[\u001b[38;5;241m-\u001b[39m\u001b[38;5;241m1\u001b[39m])\n\u001b[1;32m     25\u001b[0m \u001b[38;5;28mprint\u001b[39m(resl)\n",
      "File \u001b[0;32m/local/scratch/kchan76/sparse-coarse-operator/libs/vc_poisson.py:269\u001b[0m, in \u001b[0;36mVarCoeffPoisson.test_model\u001b[0;34m(self, models, test_grid_size, device, top_accel, max_levels, num_nhbr, maxits, tol, softmax_on, single_model, attention, verbose)\u001b[0m\n\u001b[1;32m    257\u001b[0m A \u001b[38;5;241m=\u001b[39m compute_A_sparse(stencils, test_grid_size)\n\u001b[1;32m    258\u001b[0m solver_standard \u001b[38;5;241m=\u001b[39m \u001b[38;5;28mself\u001b[39m\u001b[38;5;241m.\u001b[39mgeometric_solver(A,\n\u001b[1;32m    259\u001b[0m                                         \u001b[38;5;124m'\u001b[39m\u001b[38;5;124mstandard\u001b[39m\u001b[38;5;124m'\u001b[39m,\n\u001b[1;32m    260\u001b[0m                                         models,\n\u001b[0;32m   (...)\u001b[0m\n\u001b[1;32m    266\u001b[0m                                         softmax_on\u001b[38;5;241m=\u001b[39msoftmax_on,\n\u001b[1;32m    267\u001b[0m                                         coarse_solver\u001b[38;5;241m=\u001b[39m\u001b[38;5;124m'\u001b[39m\u001b[38;5;124msplu\u001b[39m\u001b[38;5;124m'\u001b[39m)\n\u001b[0;32m--> 269\u001b[0m solver_non_galerkin \u001b[38;5;241m=\u001b[39m \u001b[38;5;28;43mself\u001b[39;49m\u001b[38;5;241;43m.\u001b[39;49m\u001b[43mgeometric_solver\u001b[49m\u001b[43m(\u001b[49m\u001b[43mA\u001b[49m\u001b[43m,\u001b[49m\n\u001b[1;32m    270\u001b[0m \u001b[43m                                            \u001b[49m\u001b[38;5;124;43m'\u001b[39;49m\u001b[38;5;124;43mlearning\u001b[39;49m\u001b[38;5;124;43m'\u001b[39;49m\u001b[43m,\u001b[49m\n\u001b[1;32m    271\u001b[0m \u001b[43m                                            \u001b[49m\u001b[43mmodels\u001b[49m\u001b[43m,\u001b[49m\n\u001b[1;32m    272\u001b[0m \u001b[43m                                            \u001b[49m\u001b[43mtest_grid_size\u001b[49m\u001b[43m,\u001b[49m\n\u001b[1;32m    273\u001b[0m \u001b[43m                                            \u001b[49m\u001b[43mnum_nhbr\u001b[49m\u001b[43m \u001b[49m\u001b[38;5;241;43m=\u001b[39;49m\u001b[43m \u001b[49m\u001b[43mnum_nhbr\u001b[49m\u001b[43m,\u001b[49m\n\u001b[1;32m    274\u001b[0m \u001b[43m                                            \u001b[49m\u001b[43mmax_levels\u001b[49m\u001b[38;5;241;43m=\u001b[39;49m\u001b[43mmax_levels\u001b[49m\u001b[43m,\u001b[49m\n\u001b[1;32m    275\u001b[0m \u001b[43m                                            \u001b[49m\u001b[43mcoarse_solver\u001b[49m\u001b[38;5;241;43m=\u001b[39;49m\u001b[38;5;124;43m'\u001b[39;49m\u001b[38;5;124;43msplu\u001b[39;49m\u001b[38;5;124;43m'\u001b[39;49m\u001b[43m,\u001b[49m\n\u001b[1;32m    276\u001b[0m \u001b[43m                                            \u001b[49m\u001b[43msingle_model\u001b[49m\u001b[43m \u001b[49m\u001b[38;5;241;43m=\u001b[39;49m\u001b[43m \u001b[49m\u001b[43msingle_model\u001b[49m\u001b[43m,\u001b[49m\n\u001b[1;32m    277\u001b[0m \u001b[43m                                            \u001b[49m\u001b[43mattention\u001b[49m\u001b[38;5;241;43m=\u001b[39;49m\u001b[43mattention\u001b[49m\u001b[43m,\u001b[49m\n\u001b[1;32m    278\u001b[0m \u001b[43m                                            \u001b[49m\u001b[43msoftmax_on\u001b[49m\u001b[38;5;241;43m=\u001b[39;49m\u001b[43msoftmax_on\u001b[49m\u001b[43m,\u001b[49m\n\u001b[1;32m    279\u001b[0m \u001b[43m                                            \u001b[49m\u001b[43mdevice\u001b[49m\u001b[38;5;241;43m=\u001b[39;49m\u001b[43mdevice\u001b[49m\u001b[43m)\u001b[49m\n\u001b[1;32m    280\u001b[0m x0 \u001b[38;5;241m=\u001b[39m np\u001b[38;5;241m.\u001b[39mones((A\u001b[38;5;241m.\u001b[39mshape[\u001b[38;5;241m0\u001b[39m],\u001b[38;5;241m1\u001b[39m))\n\u001b[1;32m    281\u001b[0m b \u001b[38;5;241m=\u001b[39m np\u001b[38;5;241m.\u001b[39mrandom\u001b[38;5;241m.\u001b[39mrand(A\u001b[38;5;241m.\u001b[39mshape[\u001b[38;5;241m0\u001b[39m],\u001b[38;5;241m1\u001b[39m)\n",
      "File \u001b[0;32m/local/scratch/kchan76/sparse-coarse-operator/libs/vc_poisson.py:341\u001b[0m, in \u001b[0;36mVarCoeffPoisson.geometric_solver\u001b[0;34m(self, A, mg_option, models, n, presmoother, postsmoother, num_nhbr, max_levels, max_coarse, coarse_solver, device, attention, single_model, softmax_on, **kwargs)\u001b[0m\n\u001b[1;32m    338\u001b[0m levels[\u001b[38;5;241m-\u001b[39m\u001b[38;5;241m1\u001b[39m]\u001b[38;5;241m.\u001b[39mn \u001b[38;5;241m=\u001b[39m n\n\u001b[1;32m    340\u001b[0m \u001b[38;5;28;01mwhile\u001b[39;00m \u001b[38;5;28mlen\u001b[39m(levels) \u001b[38;5;241m<\u001b[39m max_levels \u001b[38;5;129;01mand\u001b[39;00m levels[\u001b[38;5;241m-\u001b[39m\u001b[38;5;241m1\u001b[39m]\u001b[38;5;241m.\u001b[39mA\u001b[38;5;241m.\u001b[39mshape[\u001b[38;5;241m0\u001b[39m] \u001b[38;5;241m>\u001b[39m max_coarse:\n\u001b[0;32m--> 341\u001b[0m     \u001b[38;5;28;43mself\u001b[39;49m\u001b[38;5;241;43m.\u001b[39;49m\u001b[43mextend_hierarchy\u001b[49m\u001b[43m(\u001b[49m\u001b[43mlevels\u001b[49m\u001b[43m,\u001b[49m\u001b[43mmg_option\u001b[49m\u001b[43m,\u001b[49m\u001b[43mmodels\u001b[49m\u001b[43m,\u001b[49m\u001b[43mdevice\u001b[49m\u001b[43m,\u001b[49m\u001b[43m \u001b[49m\u001b[43msoftmax_on\u001b[49m\u001b[43m,\u001b[49m\u001b[43m \u001b[49m\u001b[43mnum_nhbr\u001b[49m\u001b[43m,\u001b[49m\u001b[43msingle_model\u001b[49m\u001b[38;5;241;43m=\u001b[39;49m\u001b[43msingle_model\u001b[49m\u001b[43m,\u001b[49m\u001b[43m \u001b[49m\u001b[43mattention\u001b[49m\u001b[38;5;241;43m=\u001b[39;49m\u001b[43mattention\u001b[49m\u001b[43m)\u001b[49m\n\u001b[1;32m    343\u001b[0m ml \u001b[38;5;241m=\u001b[39m multilevel_solver(levels, coarse_solver\u001b[38;5;241m=\u001b[39mcoarse_solver)\n\u001b[1;32m    344\u001b[0m change_smoothers(ml, presmoother, postsmoother)\n",
      "File \u001b[0;32m/local/scratch/kchan76/sparse-coarse-operator/libs/vc_poisson.py:417\u001b[0m, in \u001b[0;36mVarCoeffPoisson.extend_hierarchy\u001b[0;34m(self, levels, mg_option, models, device, softmax_on, num_nhbr, single_model, attention)\u001b[0m\n\u001b[1;32m    415\u001b[0m A2 \u001b[38;5;241m=\u001b[39m \u001b[38;5;241m-\u001b[39msparsified_stencils\u001b[38;5;241m.\u001b[39msum(dim\u001b[38;5;241m=\u001b[39m\u001b[38;5;241m-\u001b[39m\u001b[38;5;241m1\u001b[39m)\u001b[38;5;241m.\u001b[39mreshape(\u001b[38;5;241m-\u001b[39m\u001b[38;5;241m1\u001b[39m,\u001b[38;5;241m1\u001b[39m)\n\u001b[1;32m    416\u001b[0m A3 \u001b[38;5;241m=\u001b[39m sparsified_stencils[:,\u001b[38;5;241m-\u001b[39m\u001b[38;5;241m4\u001b[39m:]\n\u001b[0;32m--> 417\u001b[0m sparsified_stencils \u001b[38;5;241m=\u001b[39m \u001b[43mtorch\u001b[49m\u001b[38;5;241;43m.\u001b[39;49m\u001b[43mcat\u001b[49m\u001b[43m(\u001b[49m\u001b[43m(\u001b[49m\u001b[43mA1\u001b[49m\u001b[43m,\u001b[49m\u001b[43mA2\u001b[49m\u001b[43m,\u001b[49m\u001b[43mA3\u001b[49m\u001b[43m)\u001b[49m\u001b[43m,\u001b[49m\u001b[43m \u001b[49m\u001b[43mdim\u001b[49m\u001b[38;5;241;43m=\u001b[39;49m\u001b[38;5;241;43m-\u001b[39;49m\u001b[38;5;241;43m1\u001b[39;49m\u001b[43m)\u001b[49m\n\u001b[1;32m    418\u001b[0m \u001b[38;5;28;01massert\u001b[39;00m stencils\u001b[38;5;241m.\u001b[39mshape \u001b[38;5;241m==\u001b[39m sparsified_stencils\u001b[38;5;241m.\u001b[39mshape\n\u001b[1;32m    420\u001b[0m d \u001b[38;5;241m=\u001b[39m \u001b[38;5;28mint\u001b[39m(sqrt(stencils\u001b[38;5;241m.\u001b[39msize(\u001b[38;5;241m0\u001b[39m)))\n",
      "\u001b[0;31mRuntimeError\u001b[0m: Tensors must have same number of dimensions: got 3 and 2"
     ]
    }
   ],
   "source": [
    "models = {}\n",
    "if single_model:\n",
    "    models['level2'] = model_probl2\n",
    "else:\n",
    "    models['level2'] = model_probl2, model_valuel2\n",
    "test_grid_size = 63\n",
    "accel = None\n",
    "accel = 'gmres'\n",
    "max_levels = 2\n",
    "maxits = 100\n",
    "tol = 1e-30\n",
    "softmax_on = False\n",
    "attention = True\n",
    "_,_,xs,xl,ress,resl = PDE.test_model(models,\n",
    "                                     test_grid_size,\n",
    "                                     device,\n",
    "                                     top_accel = accel,\n",
    "                                     max_levels = max_levels, \n",
    "                                     tol = tol,\n",
    "                                     maxits = maxits,\n",
    "                                     num_nhbr = num_nhbr2,\n",
    "                                     softmax_on = softmax_on,\n",
    "                                     single_model =single_model,\n",
    "                                     attention=attention,\n",
    "                                     verbose = True)\n",
    "print(ress[-1])\n",
    "print(resl)"
   ]
  },
  {
   "cell_type": "code",
   "execution_count": 6,
   "id": "1704601c",
   "metadata": {},
   "outputs": [
    {
     "data": {
      "text/plain": [
       "<matplotlib.image.AxesImage at 0x7f787e111fd0>"
      ]
     },
     "execution_count": 6,
     "metadata": {},
     "output_type": "execute_result"
    },
    {
     "data": {
      "image/png": "[encoded data removed]",
      "text/plain": [
       "<Figure size 640x480 with 1 Axes>"
      ]
     },
     "metadata": {},
     "output_type": "display_data"
    }
   ],
   "source": [
    "import matplotlib.pyplot as plt \n",
    "plt.imshow(xs.reshape(test_grid_size,test_grid_size))"
   ]
  },
  {
   "cell_type": "code",
   "execution_count": 7,
   "id": "653b0e71",
   "metadata": {},
   "outputs": [
    {
     "data": {
      "text/plain": [
       "<matplotlib.image.AxesImage at 0x7f7822572f40>"
      ]
     },
     "execution_count": 7,
     "metadata": {},
     "output_type": "execute_result"
    },
    {
     "data": {
      "image/png": "[encoded data removed]",
      "text/plain": [
       "<Figure size 640x480 with 1 Axes>"
      ]
     },
     "metadata": {},
     "output_type": "display_data"
    }
   ],
   "source": [
    "plt.imshow(xl.reshape(test_grid_size,test_grid_size))"
   ]
  },
  {
   "cell_type": "code",
   "execution_count": null,
   "id": "a17ab5e2",
   "metadata": {},
   "outputs": [
    {
     "data": {
      "text/plain": [
       "tensor([[1., 0., 0., 0.],\n",
       "        [0., 1., 0., 0.],\n",
       "        [0., 0., 1., 0.],\n",
       "        [0., 0., 0., 1.],\n",
       "        [0., 0., 0., 0.],\n",
       "        [0., 0., 0., 0.],\n",
       "        [0., 0., 0., 0.],\n",
       "        [0., 0., 0., 0.]])"
      ]
     },
     "execution_count": 11,
     "metadata": {},
     "output_type": "execute_result"
    }
   ],
   "source": [
    "ones = torch.ones(4)\n",
    "out = torch.zeros(8,4)\n",
    "torch.eye(8,4)"
   ]
  },
  {
   "cell_type": "code",
   "execution_count": null,
   "id": "3af58894",
   "metadata": {},
   "outputs": [
    {
     "data": {
      "text/plain": [
       "tensor([[0, 0, 0, 0, 0, 0, 0],\n",
       "        [0, 0, 0, 0, 0, 0, 0],\n",
       "        [0, 0, 0, 0, 0, 0, 0],\n",
       "        [1, 0, 0, 0, 0, 0, 0],\n",
       "        [0, 1, 0, 0, 0, 0, 0],\n",
       "        [0, 0, 1, 0, 0, 0, 0]])"
      ]
     },
     "execution_count": 16,
     "metadata": {},
     "output_type": "execute_result"
    }
   ],
   "source": [
    "torch.diag(torch.tensor([1,1,1,1]),diagonal=-3)[:-1]"
   ]
  },
  {
   "cell_type": "code",
   "execution_count": null,
   "id": "2099101a",
   "metadata": {},
   "outputs": [],
   "source": []
  }
 ],
 "metadata": {
  "kernelspec": {
   "display_name": "Python 3 (ipykernel)",
   "language": "python",
   "name": "python3"
  }
 },
 "nbformat": 4,
 "nbformat_minor": 5
}
