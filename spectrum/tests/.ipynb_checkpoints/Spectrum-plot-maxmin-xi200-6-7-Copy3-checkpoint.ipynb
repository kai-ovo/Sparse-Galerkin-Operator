{
 "cells": [
  {
   "cell_type": "code",
   "execution_count": 1,
   "id": "6f01e95d",
   "metadata": {},
   "outputs": [
    {
     "name": "stdout",
     "output_type": "stream",
     "text": [
      "/local/scratch/kchan76/sparse-coarse-operator/spectrum/tests\n"
     ]
    },
    {
     "name": "stderr",
     "output_type": "stream",
     "text": [
      "/local/scratch/kchan76/sparse-stencil-learning/src/pyamg2/lib/python3.8/site-packages/tqdm/auto.py:22: TqdmWarning: IProgress not found. Please update jupyter and ipywidgets. See https://ipywidgets.readthedocs.io/en/stable/user_install.html\n",
      "  from .autonotebook import tqdm as notebook_tqdm\n"
     ]
    },
    {
     "name": "stdout",
     "output_type": "stream",
     "text": [
      "device: cuda:1\n"
     ]
    }
   ],
   "source": [
    "import os\n",
    "print(os.getcwd())\n",
    "import sys\n",
    "sys.path.append('/local/scratch/kchan76/sparse-coarse-operator/')\n",
    "from libs.pde import *\n",
    "from libs.rotated_laplacian import RotatedLaplacian\n",
    "from libs.models import BasicNet, MultiHeadedAttention\n",
    "from libs.utils import *\n",
    "import torch\n",
    "\n",
    "device = torch.device('cuda:1' if torch.cuda.is_available() else 'cpu')\n",
    "print('device:', device)"
   ]
  },
  {
   "cell_type": "code",
   "execution_count": 2,
   "id": "565291d0",
   "metadata": {},
   "outputs": [],
   "source": [
    "# Initialization\n",
    "list_eps = [1/200]\n",
    "low_pi = 6\n",
    "high_pi = 7\n",
    "theta_low = np.pi/12*low_pi\n",
    "theta_high = np.pi/12*high_pi\n",
    "# 10 points: xi = 300, 6-7\n",
    "npts = 5\n",
    "list_theta = np.linspace(theta_low, theta_high, npts)"
   ]
  },
  {
   "cell_type": "code",
   "execution_count": 3,
   "id": "4e916073",
   "metadata": {},
   "outputs": [],
   "source": [
    "train_grid_size = 31\n",
    "k2 = 10\n",
    "k3 = 10\n",
    "same_vecs = False\n",
    "PDE = RotatedLaplacian(train_grid_size,[k2,k3],list_eps, list_theta,'fixed xi',same_vecs=same_vecs)"
   ]
  },
  {
   "cell_type": "code",
   "execution_count": 4,
   "id": "a07c54e0",
   "metadata": {},
   "outputs": [],
   "source": [
    "# Load Model\n",
    "MODEL_DIR = f\"./../../models/laplacian/fixed-xi/xi-{int(1/list_eps[0])}/theta-{low_pi}pi\\\\12-{high_pi}pi\\\\12/\"\n",
    "model_prob2=torch.load(MODEL_DIR+\"level2_prob.pt\")\n",
    "model_value2=torch.load(MODEL_DIR+\"level2_value.pt\")\n",
    "model_prob3=torch.load(MODEL_DIR+\"level3_prob.pt\")\n",
    "model_value3 = torch.load(MODEL_DIR+\"level3_value.pt\")"
   ]
  },
  {
   "cell_type": "code",
   "execution_count": 5,
   "id": "353e81a8",
   "metadata": {},
   "outputs": [
    {
     "name": "stdout",
     "output_type": "stream",
     "text": [
      "test seed: 30\n",
      "standard stencil iter:    202.4   standard stencil time:   4.910659694671631\n",
      "learned stencil iter:    201.4   learned stencil time:   7.074197101593017\n"
     ]
    }
   ],
   "source": [
    "# generate additional data points\n",
    "'''\n",
    "seed for  2-3.   3-4.   6-7 (3-level)\n",
    "100.      65(20) 14.    49\n",
    "200       13     15     30(doesn't work well here, use xi200.ipynb)\n",
    "300       4      2      17\n",
    "400       27     1(20)  10\n",
    "'''\n",
    "test_seed = 30\n",
    "set_global_seed(test_seed)\n",
    "print('test seed:', test_seed)\n",
    "num_test = 10\n",
    "models = {}\n",
    "models['level2'] = model_prob2, model_value2\n",
    "models['level3'] = model_prob3, model_value3\n",
    "max_levels = 3\n",
    "test_grid_size = 255\n",
    "epsilon = tuple(list_eps)\n",
    "theta = (theta_low, theta_high)\n",
    "random_test = True\n",
    "softmax_topk = False\n",
    "num_iter_standard, num_iter_learning, thetaList, _, _ = PDE.test_model(num_test,\n",
    "                                                        models,\n",
    "                                                        test_grid_size,\n",
    "                                                        max_levels,\n",
    "                                                        epsilon,\n",
    "                                                        theta,\n",
    "                                                        device,\n",
    "                                                        random_test=random_test,\n",
    "                                                        single_model= False,\n",
    "                                                        softmax_on = softmax_topk,\n",
    "                                                        verbose = True)"
   ]
  },
  {
   "cell_type": "code",
   "execution_count": 7,
   "id": "bbe03552",
   "metadata": {},
   "outputs": [
    {
     "name": "stdout",
     "output_type": "stream",
     "text": [
      "[142, 225, 139, 397, 92, 244, 89, 324, 156, 216]\n",
      "[134, 222, 130, 400, 101, 242, 101, 325, 147, 212]\n",
      "[1.739432710192366, 1.6704760482868208, 1.744381862493283, 1.6136399867014837, 1.8228064631055108, 1.6615521843796457, 1.8304361294265619, 1.6323343399618109, 1.7241307277313371, 1.6772675464243478]\n",
      "2\n"
     ]
    }
   ],
   "source": [
    "print(num_iter_standard)\n",
    "print(num_iter_learning)\n",
    "print(thetaList)\n",
    "iter_diff = [num_iter_learning[i]-num_iter_standard[i] for i in range(len(num_iter_standard))]\n",
    "min_index = iter_diff.index(min(iter_diff))\n",
    "print(min_index)"
   ]
  },
  {
   "cell_type": "code",
   "execution_count": 5,
   "id": "c179acc8",
   "metadata": {},
   "outputs": [],
   "source": [
    "from scipy.sparse.linalg import eigs\n",
    "from pyamg.gallery import stencil_grid"
   ]
  },
  {
   "cell_type": "code",
   "execution_count": 6,
   "id": "fb57e5cc",
   "metadata": {},
   "outputs": [],
   "source": [
    "# min_index = 5\n",
    "theta = list_theta[2]"
   ]
  },
  {
   "cell_type": "code",
   "execution_count": null,
   "id": "c2d583d9",
   "metadata": {},
   "outputs": [
    {
     "name": "stdout",
     "output_type": "stream",
     "text": [
      "(3, 3)\n",
      "(3, 3)\n",
      "(961, 961)\n",
      "(225, 225)\n",
      "torch.Size([3, 3])\n",
      "(3, 3)\n",
      "(3, 3)\n",
      "(2209, 2209)\n",
      "(529, 529)\n",
      "torch.Size([3, 3])\n",
      "(3, 3)\n",
      "(3, 3)\n",
      "(3969, 3969)\n",
      "(961, 961)\n",
      "torch.Size([3, 3])\n",
      "(3, 3)\n",
      "(3, 3)\n",
      "(9025, 9025)\n",
      "(2209, 2209)\n",
      "torch.Size([3, 3])\n"
     ]
    }
   ],
   "source": [
    "# # create directory\n",
    "# MODEL_DIR = f\"./spectrum/data/laplacian/fixed-xi/xi-{int(1/list_eps[0])}/theta-{low_pi}pi\\\\12-{high_pi}pi\\\\12/\"\n",
    "# if not os.path.isdir(MODEL_DIR):\n",
    "#     os.makedirs(MODEL_DIR)\n",
    "# initialize dictionary\n",
    "eigval2 = {}\n",
    "eigval3 = {}\n",
    "sizes = [63,95,127,191,255,383,511]\n",
    "\n",
    "# iterate through different sizes\n",
    "for n in sizes:\n",
    "    n2 = n//2\n",
    "    n3 = (n//2)//2\n",
    "    model_prob2, model_value2, model_prob3, model_value3 = model_prob2.to(device), model_value2.to(device),model_prob3.to(device), model_value3.to(device)\n",
    "#     theta = thetaList[min_index]\n",
    "    eps = list_eps[0]\n",
    "    _, _, s2, s3, _, _ = PDE.gen_data_point(31,[10,10],eps,theta)\n",
    "    print(s2.shape)\n",
    "    print(s2.shape)\n",
    "    Ag2 = stencil_grid(s2,(n2,n2))\n",
    "    Ag3 = stencil_grid(s3,(n3,n3))\n",
    "    print(Ag2.shape)\n",
    "    print(Ag3.shape)\n",
    "\n",
    "\n",
    "    single_model = False\n",
    "    softmax_on = False\n",
    "\n",
    "    stencil2 = torch.Tensor(s2).reshape(9,1)\n",
    "    stencil2 = torch.cat([stencil2[0:4],stencil2[5:9]]).t().to(device).double()\n",
    "    prob2 = model_prob2(stencil2).squeeze()\n",
    "    value2 = model_value2(stencil2).squeeze()\n",
    "    c2 = PDE.sparsify(prob2,value2,single_model,softmax_on).squeeze()\n",
    "    print(c2.shape) # (3,3)\n",
    "    c2 = c2.detach().cpu().numpy()\n",
    "\n",
    "    stencil3 = torch.Tensor(s3).reshape(9,1)\n",
    "    stencil3 = torch.cat([stencil3[0:4],stencil3[5:9]]).t().to(device).double()\n",
    "    prob3 = model_prob3(stencil3).squeeze()\n",
    "    value3 = model_value3(stencil3).squeeze()\n",
    "    c3 = PDE.sparsify(prob3,value3,single_model,softmax_on).squeeze()\n",
    "    c3 = c3.detach().cpu().numpy()\n",
    "\n",
    "    Ac2 = stencil_grid(c2,(n2,n2))\n",
    "    Ac3 = stencil_grid(c3,(n3,n3))\n",
    "    \n",
    "    # compute eigenvalues\n",
    "    e2max,_ = eigs(Ac2, k=1, M = Ag2, which='LM')\n",
    "    e2min,_ = eigs(Ac2, k=1, M = Ag2, which='SM')\n",
    "    e3max,_ = eigs(Ac3, k=1, M = Ag3, which='LM')\n",
    "    e3min,_ = eigs(Ac3, k=1, M = Ag3, which='SM')\n",
    "    eigval2[n] = [e2max[0],e2min[0]]\n",
    "    eigval3[n] = [e3max[0],e3min[0]]\n",
    "    \n",
    "#     # save eigenvalues\n",
    "#     file_name2 = MODEL_DIR + \"l2-n-\" + str(n) + \"-eigvals.npy\"\n",
    "#     file_name3 = MODEL_DIR + \"l3-n-\" + str(n) + \"-eigvals.npy\"\n",
    "#     np.save(file_name2, eigval2[n])\n",
    "#     np.save(file_name3, eigval3[n])"
   ]
  },
  {
   "cell_type": "code",
   "execution_count": null,
   "id": "0698511b",
   "metadata": {},
   "outputs": [],
   "source": [
    "# create directory\n",
    "MODEL_DIR1 = f\"./../data/laplacian/fixed-xi/xi-{int(1/list_eps[0])}/theta-{low_pi}pi\\\\12-{high_pi}pi\\\\12/\"\n",
    "if not os.path.isdir(MODEL_DIR1):\n",
    "    os.makedirs(MODEL_DIR1)\n",
    "\n",
    "# save eigenvalues\n",
    "file_name2 = MODEL_DIR1 + \"l2-eigvals-train.npy\"\n",
    "file_name3 = MODEL_DIR1 + \"l3-eigvals-train.npy\"\n",
    "np.save(file_name2, eigval2)\n",
    "np.save(file_name3, eigval3)"
   ]
  },
  {
   "cell_type": "code",
   "execution_count": null,
   "id": "14e50eb5",
   "metadata": {},
   "outputs": [],
   "source": [
    "evals2 = eigval2.values()\n",
    "evals2_max = list(list(zip(*evals2))[0])\n",
    "evals2_min = list(list(zip(*evals2))[1])"
   ]
  },
  {
   "cell_type": "code",
   "execution_count": null,
   "id": "538fb769",
   "metadata": {},
   "outputs": [],
   "source": [
    "MODEL_DIR = f\"./../figs/laplacian/fixed-xi/xi-{int(1/list_eps[0])}/\"\n",
    "if not os.path.isdir(MODEL_DIR):\n",
    "    os.makedirs(MODEL_DIR)"
   ]
  },
  {
   "cell_type": "code",
   "execution_count": null,
   "id": "e8006b7a",
   "metadata": {},
   "outputs": [],
   "source": [
    "import matplotlib.pyplot as plt\n",
    "import numpy as np\n",
    "\n",
    "sizes = [63,95,127,191,255,383,511]\n",
    "title_name = \"Level 2, ξ = %d, θ = %.4f\"%(1/list_eps[0],theta)\n",
    "\n",
    "fig = plt.figure(dpi=300)\n",
    "plt.plot(sizes,evals2_max, 'v',markersize=8, label = 'Max', color = \"royalblue\")\n",
    "plt.plot(sizes,evals2_min, '^',markersize=8, label = 'Min', color = \"indianred\")\n",
    "for n in sizes:\n",
    "    plt.plot([n,n],[eigval2[n][0],eigval2[n][1]], '--k',lw=1)\n",
    "plt.legend()\n",
    "plt.ylim([0,8])\n",
    "plt.xticks(sizes)\n",
    "plt.xlabel(\"Mesh size\")\n",
    "plt.ylabel(\"Eigenvalue\")\n",
    "plt.title(title_name)\n",
    "file_name = MODEL_DIR + f\"theta-{low_pi}pi\\\\12-{high_pi}pi\\\\12_level2-train.png\"\n",
    "plt.savefig(file_name)\n",
    "plt.show()"
   ]
  },
  {
   "cell_type": "code",
   "execution_count": null,
   "id": "7e7ce882",
   "metadata": {},
   "outputs": [],
   "source": [
    "evals3 = eigval3.values()\n",
    "# evals3_max = np.absolute(list(list(zip(*evals3))[0]))\n",
    "# evals3_min = np.absolute(list(list(zip(*evals3))[1]))\n",
    "evals3_max = list(list(zip(*evals3))[0])\n",
    "evals3_min = list(list(zip(*evals3))[1])\n",
    "\n",
    "sizes = [63,95,127,191,255,383,511]\n",
    "title_name = \"Level 3, ξ = %d, θ = %.4f\"%(1/list_eps[0],theta)\n",
    "\n",
    "fig = plt.figure(dpi=300)\n",
    "plt.plot(sizes,evals3_max, 'v',markersize=8, label = 'Max', color = \"royalblue\")\n",
    "plt.plot(sizes,evals3_min, '^',markersize=8, label = 'Min', color = \"indianred\")\n",
    "plt.legend()\n",
    "for n in sizes:\n",
    "    plt.plot([n,n],[eigval3[n][0],eigval3[n][1]], '--k',lw=1)\n",
    "# for i in range(len(sizes)):\n",
    "#     plt.plot([sizes[i],sizes[i]],[evals3_min[i],evals3_max[i]], '--k',lw=1)\n",
    "plt.ylim([0,10])\n",
    "plt.xticks(sizes)\n",
    "plt.xlabel(\"Mesh size\")\n",
    "plt.ylabel(\"Eigenvalue\")\n",
    "plt.title(title_name)\n",
    "file_name = MODEL_DIR + f\"theta-{low_pi}pi\\\\12-{high_pi}pi\\\\12_level3-train.png\"\n",
    "plt.savefig(file_name)\n",
    "plt.show()"
   ]
  },
  {
   "cell_type": "code",
   "execution_count": 16,
   "id": "f454ca0b",
   "metadata": {},
   "outputs": [
    {
     "data": {
      "text/plain": [
       "dict_values([[(1.6589298971010522-0.08291994420005987j), (0.3901333294807074+0j)], [(2.0846762683769398-0.1762097380959197j), (0.3749831468939517+0j)], [(2.7906800864109655-0.12584019891791753j), (0.42937215488046526+0j)], [(3.2940379300857376-0.30834694266883345j), (0.37546290655686465+0j)], [(4.636337426441136-0.5431123374464937j), (0.44683524093538646+0j)], [(5.758050091447217-0.2683316777440976j), (0.4310780648238817+0j)], [(6.390361768089969-3.0600191663335186j), (0.43128520949295424+0j)]])"
      ]
     },
     "execution_count": 16,
     "metadata": {},
     "output_type": "execute_result"
    }
   ],
   "source": [
    "evals3"
   ]
  }
 ],
 "metadata": {
  "kernelspec": {
   "display_name": "Python 3 (ipykernel)",
   "language": "python",
   "name": "python3"
  },
  "language_info": {
   "codemirror_mode": {
    "name": "ipython",
    "version": 3
   },
   "file_extension": ".py",
   "mimetype": "text/x-python",
   "name": "python",
   "nbconvert_exporter": "python",
   "pygments_lexer": "ipython3",
   "version": "3.8.10"
  }
 },
 "nbformat": 4,
 "nbformat_minor": 5
}
